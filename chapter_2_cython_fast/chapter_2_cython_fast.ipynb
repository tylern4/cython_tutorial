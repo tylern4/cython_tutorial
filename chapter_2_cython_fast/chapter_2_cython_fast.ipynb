{
 "cells": [
  {
   "cell_type": "code",
   "execution_count": null,
   "metadata": {},
   "outputs": [],
   "source": [
    "%matplotlib inline\n",
    "%load_ext Cython\n",
    "import matplotlib.pylab as plt\n",
    "import time"
   ]
  },
  {
   "cell_type": "code",
   "execution_count": null,
   "metadata": {},
   "outputs": [],
   "source": [
    "num_steps = 10000\n",
    "scale = 256\n",
    "damping= 0.25\n",
    "initial_P = 250\n",
    "stop_step = 1000"
   ]
  },
  {
   "cell_type": "code",
   "execution_count": null,
   "metadata": {},
   "outputs": [],
   "source": [
    "%%cython -a\n",
    "from numpy.core.umath import pi\n",
    "from numpy.ma import sin\n",
    "import time\n",
    "cimport cython\n",
    "\n",
    "def wave_propogation(num_steps,scale,damping,initial_P,stop_step):\n",
    "    omega = 3 / (2 * pi)\n",
    "    \n",
    "    size_x = 2 * scale + 1\n",
    "    size_y = 2 * scale + 1 \n",
    "\n",
    "    # V velocity\n",
    "    # P presure\n",
    "    # Initialization\n",
    "    P = [[0.0 for x in range(size_x)] for y in range(size_y)]\n",
    "    V = [[[0.0, 0.0, 0.0, 0.0] for x in range(size_x)] for y in range(size_y)]\n",
    "    P[scale][scale] = initial_P\n",
    "    for step in range(num_steps):\n",
    "        if(step <= stop_step):\n",
    "            P[scale][scale] = initial_P * sin(omega * step)\n",
    "        for i in range(size_y):\n",
    "            for j in range(size_x):\n",
    "                V[i][j][0] = V[i][j][0] + P[i][j] - P[i - 1][j] if i > 0 else P[i][j]\n",
    "                V[i][j][1] = V[i][j][1] + P[i][j] - P[i][j + 1] if j < size_x - 1 else P[i][j]\n",
    "                V[i][j][2] = V[i][j][2] + P[i][j] - P[i + 1][j] if i < size_y - 1 else P[i][j]\n",
    "                V[i][j][3] = V[i][j][3] + P[i][j] - P[i][j - 1] if j > 0 else P[i][j]\n",
    "                \n",
    "        for i in range(size_y):\n",
    "            for j in range(size_x):\n",
    "                P[i][j] -= 0.5 * damping * sum(V[i][j])\n",
    "    return P"
   ]
  },
  {
   "cell_type": "code",
   "execution_count": null,
   "metadata": {},
   "outputs": [],
   "source": [
    "plt.figure(figsize=(10,10))\n",
    "start = time.time()\n",
    "pressure = wave_propogation(num_steps,scale,damping,initial_P,stop_step)\n",
    "stop = time.time()\n",
    "print(f\"{stop - start:.2f} Sec, {num_steps / (stop - start):.2f} Hz\")\n",
    "plt.imshow(pressure,cmap='viridis_r',interpolation='bilinear')"
   ]
  },
  {
   "cell_type": "markdown",
   "metadata": {},
   "source": [
    "#### Lets use the heatmap to speed up the code even more\n",
    "\n",
    "\n",
    "Based on previous heatmap:\n",
    "\n",
    "1. Making loops faster\n",
    "    - Give types to loop varialbes (i,j,step)\n",
    "    - This will make the loops more C like\n",
    "2. Make all varialbes C varialbes\n",
    "    - Give all the variables types\n",
    "3. Make accessing the P and V faster\n",
    "    - Change them to C arrays\n",
    "    - Turn off python style accessing of P and V\n",
    "4. Use C function whenever possible\n",
    "    - Replace sin and sum\n"
   ]
  },
  {
   "cell_type": "code",
   "execution_count": null,
   "metadata": {},
   "outputs": [],
   "source": [
    "%%cython -a\n",
    "from numpy.core.umath import pi\n",
    "from numpy.ma import sin\n",
    "import time\n",
    "cimport cython\n",
    "\n",
    "def wave_propogation(num_steps,scale,damping,initial_P,stop_step):\n",
    "    omega = 3 / (2 * pi)\n",
    "    \n",
    "    size_x = 2 * scale + 1\n",
    "    size_y = 2 * scale + 1 \n",
    "\n",
    "    # V velocity\n",
    "    # P presure\n",
    "    # Initialization\n",
    "    P = [[0.0 for x in range(size_x)] for y in range(size_y)]\n",
    "    V = [[[0.0, 0.0, 0.0, 0.0] for x in range(size_x)] for y in range(size_y)]\n",
    "    P[scale][scale] = initial_P\n",
    "    for step in range(num_steps):\n",
    "        if(step <= stop_step):\n",
    "            P[scale][scale] = initial_P * sin(omega * step)\n",
    "        for i in range(size_y):\n",
    "            for j in range(size_x):\n",
    "                V[i][j][0] = V[i][j][0] + P[i][j] - P[i - 1][j] if i > 0 else P[i][j]\n",
    "                V[i][j][1] = V[i][j][1] + P[i][j] - P[i][j + 1] if j < size_x - 1 else P[i][j]\n",
    "                V[i][j][2] = V[i][j][2] + P[i][j] - P[i + 1][j] if i < size_y - 1 else P[i][j]\n",
    "                V[i][j][3] = V[i][j][3] + P[i][j] - P[i][j - 1] if j > 0 else P[i][j]\n",
    "                \n",
    "        for i in range(size_y):\n",
    "            for j in range(size_x):\n",
    "                P[i][j] -= 0.5 * damping * sum(V[i][j])\n",
    "    return P"
   ]
  },
  {
   "cell_type": "markdown",
   "metadata": {},
   "source": [
    "# Final Results\n",
    "- ....\n",
    "- ....\n",
    "- ....\n",
    "- ....\n",
    "- ....\n",
    "- ....\n",
    "- ....\n",
    "- ....\n",
    "- ....\n",
    "- ....\n",
    "- ...."
   ]
  },
  {
   "cell_type": "code",
   "execution_count": null,
   "metadata": {
    "scrolled": false
   },
   "outputs": [],
   "source": [
    "%%cython --compile-args=-fopenmp --link-args=-fopenmp --force\n",
    "import time\n",
    "# Using libc.math pi and sin functions\n",
    "from libc.math cimport M_PI as pi\n",
    "from libc.math cimport sin as sin\n",
    "cimport cython\n",
    "\n",
    "# Using cvarray to make C style array\n",
    "from cython.view cimport array as cvarray\n",
    "from cython.parallel import prange\n",
    "\n",
    "# These turn off some python features for accessing arrays as python arrays\n",
    "@cython.boundscheck(False)\n",
    "@cython.wraparound(False)\n",
    "# This turns off checks for divide by 0 and will seg fault instead of throw a warning\n",
    "@cython.cdivision(True)\n",
    "# Gave all the input variables types\n",
    "def wave_propogation_fast(int num_steps, int scale,float damping,float initial_P,int stop_step):\n",
    "    # Give types to variables we use to calculate with\n",
    "    cdef float omega =  3.0 / (2.0 * pi)\n",
    "    cdef int size_x = 2 * scale + 1\n",
    "    cdef int size_y = 2 * scale + 1 \n",
    "    \n",
    "    # Give types to loop iterator variables to make loops C loops\n",
    "    cdef int i = 0\n",
    "    cdef int j = 0\n",
    "    cdef int step = 0\n",
    "\n",
    "    # Setup \n",
    "    cdef float [:,:] P = cvarray(shape=(size_x, size_y), itemsize=sizeof(float), format=\"f\")\n",
    "    P[:,:] = 0.0\n",
    "    cdef float [:,:,:] V = cvarray(shape=(size_x, size_y,4), itemsize=sizeof(float), format=\"f\")\n",
    "    V[:,:,:] = 0.0\n",
    "    \n",
    "    P[scale][scale] = initial_P\n",
    "    \n",
    "    for step in range(num_steps):\n",
    "        if(step <= stop_step):\n",
    "            P[scale][scale] = initial_P * sin(omega * step)\n",
    "        for i in prange(size_x, nogil=True,num_threads=4):\n",
    "            for j in range(size_x):\n",
    "                V[i, j, 0] = V[i, j, 0] + P[i, j] - P[i - 1, j] if i > 0 else P[i, j]\n",
    "                V[i, j, 1] = V[i, j, 1] + P[i, j] - P[i, j + 1] if j < size_x - 1 else P[i, j]\n",
    "                V[i, j, 2] = V[i, j, 2] + P[i, j] - P[i + 1, j] if i < size_y - 1 else P[i, j]\n",
    "                V[i, j, 3] = V[i, j, 3] + P[i, j] - P[i, j - 1] if j > 0 else P[i, j]\n",
    "                \n",
    "        for i in prange(size_x, nogil=True,num_threads=4):\n",
    "            for j in range(size_x):\n",
    "                P[i, j] -= 0.5 * damping * (V[i, j, 0]+V[i, j, 1]+V[i, j, 2]+V[i, j, 3])\n",
    "    return P"
   ]
  },
  {
   "cell_type": "code",
   "execution_count": null,
   "metadata": {},
   "outputs": [],
   "source": [
    "plt.figure(figsize=(10,10))\n",
    "start = time.time()\n",
    "pressure = wave_propogation_fast(num_steps,scale,damping,initial_P,stop_step)\n",
    "stop = time.time()\n",
    "print(f\"{stop - start:.2f} Sec, {num_steps / (stop - start):.2f} Hz\")\n",
    "plt.imshow(pressure,cmap='viridis_r',interpolation='bilinear')"
   ]
  },
  {
   "cell_type": "code",
   "execution_count": null,
   "metadata": {},
   "outputs": [],
   "source": []
  }
 ],
 "metadata": {
  "kernelspec": {
   "display_name": "Python 3",
   "language": "python",
   "name": "python3"
  },
  "language_info": {
   "codemirror_mode": {
    "name": "ipython",
    "version": 3
   },
   "file_extension": ".py",
   "mimetype": "text/x-python",
   "name": "python",
   "nbconvert_exporter": "python",
   "pygments_lexer": "ipython3",
   "version": "3.6.7"
  }
 },
 "nbformat": 4,
 "nbformat_minor": 2
}
