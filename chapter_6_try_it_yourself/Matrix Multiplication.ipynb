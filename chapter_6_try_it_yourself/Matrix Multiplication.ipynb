{
 "cells": [
  {
   "cell_type": "code",
   "execution_count": null,
   "metadata": {},
   "outputs": [],
   "source": [
    "%matplotlib inline\n",
    "%load_ext Cython\n",
    "#http://people.duke.edu/~ccc14/sta-663-2016/18D_Cython.html\n",
    "\n",
    "import matplotlib.pylab as plt\n",
    "import random\n",
    "import numpy as np"
   ]
  },
  {
   "cell_type": "markdown",
   "metadata": {},
   "source": [
    "#### Matrix Multiplication\n",
    "\n",
    "\n",
    "Let's write a function to multiply 2 square (NxN) matrices together. \n",
    "\n",
    "First is out niave wave following the way we would do it by hand.\n",
    "\n",
    "\\begin{equation}\n",
    "A =\\begin{pmatrix}\n",
    " a_{11} & a_{12} & \\cdots & a_{1m} \\\\\n",
    " a_{21} & a_{22} & \\cdots & a_{2m} \\\\\n",
    "\\vdots & \\vdots & \\ddots & \\vdots \\\\\n",
    " a_{n1} & a_{n2} & \\cdots & a_{nm} \\\\\n",
    "\\end{pmatrix}\n",
    "\\end{equation}\n",
    "\n",
    "\\begin{equation}\n",
    "B=\\begin{pmatrix}\n",
    " b_{11} & b_{12} & \\cdots & b_{1p} \\\\\n",
    " b_{21} & b_{22} & \\cdots & b_{2p} \\\\\n",
    "\\vdots & \\vdots & \\ddots & \\vdots \\\\\n",
    " b_{m1} & b_{m2} & \\cdots & b_{mp} \\\\\n",
    "\\end{pmatrix}\n",
    "\\end{equation}\n",
    "\n",
    "\\begin{equation}\n",
    "C = AB\n",
    "\\end{equation}\n",
    "\n",
    "\\begin{equation}\n",
    "C=\\begin{pmatrix}\n",
    " c_{11} & c_{12} & \\cdots & c_{1p} \\\\\n",
    " c_{21} & c_{22} & \\cdots & c_{2p} \\\\\n",
    "\\vdots & \\vdots & \\ddots & \\vdots \\\\\n",
    " c_{n1} & c_{n2} & \\cdots & c_{np} \\\\\n",
    "\\end{pmatrix}\n",
    "\\end{equation}\n",
    "\n",
    "\\begin{equation}\n",
    "c_{ij} = a_{i1}b_{1j} + ... + a_{im}b_{mj} = \\sum_{k=1}^m a_{ik}b_{kj}\n",
    "\\end{equation}"
   ]
  },
  {
   "cell_type": "code",
   "execution_count": null,
   "metadata": {},
   "outputs": [],
   "source": [
    "def mat_mul_py(A, B):\n",
    "    # Set all the elemets of C to 0\n",
    "    C = [[0 for i in range(len(A))] for j in range(len(A))]\n",
    "    # For each col\n",
    "    for i in range(len(A)):\n",
    "        # For each row\n",
    "        for j in range(len(A)):\n",
    "            # Do the sum for the elements\n",
    "            for k in range(len(A)):\n",
    "                # Do the sum of the elements\n",
    "                C[i][j] += A[i][k] * B[k][j]\n",
    "    return C"
   ]
  },
  {
   "cell_type": "code",
   "execution_count": null,
   "metadata": {},
   "outputs": [],
   "source": [
    "size = 32\n",
    "\n",
    "A = np.random.random((size,size)).astype(np.float32)\n",
    "B = np.random.random((size,size)).astype(np.float32)\n",
    "\n",
    "%time x = mat_mul_py(A,B)"
   ]
  },
  {
   "cell_type": "markdown",
   "metadata": {},
   "source": [
    "Using what you've learned so far modify the code below to improve the speed of your matrix multiplication function by trying to remove the yellow portions of the anotated code.\n",
    "\n",
    "Look back at chapter 2 Cython Fast for hints."
   ]
  },
  {
   "cell_type": "code",
   "execution_count": null,
   "metadata": {},
   "outputs": [],
   "source": [
    "%%cython -a\n",
    "\n",
    "def mat_mul_cy(A, B):\n",
    "    # Set all the elemets of C to 0\n",
    "    C = [[0 for i in range(len(A))] for j in range(len(A))]\n",
    "    # For each col\n",
    "    for i in range(len(A)):\n",
    "        # For each row\n",
    "        for j in range(len(A)):\n",
    "            # Do the sum for the elements\n",
    "            for k in range(len(A)):\n",
    "                # Do the sum of the elements\n",
    "                C[i][j] += A[i][k] * B[k][j]\n",
    "    return C"
   ]
  },
  {
   "cell_type": "code",
   "execution_count": null,
   "metadata": {},
   "outputs": [],
   "source": [
    "%time x = mat_mul_cy(A,B)"
   ]
  },
  {
   "cell_type": "code",
   "execution_count": null,
   "metadata": {
    "scrolled": false
   },
   "outputs": [],
   "source": [
    "#%load mat_mul_cy_fast.py\n",
    "# NOTE: %%cython has to be the first line so remove the load line as well\n",
    "\n",
    "def mat_mul_cy_fast(A,B,C):\n",
    "    print(\"\\033[1m\\033[91m\\n\\nLoad the py file for the answer\\n\\n\\033[0m\")"
   ]
  },
  {
   "cell_type": "code",
   "execution_count": null,
   "metadata": {},
   "outputs": [],
   "source": [
    "size = 512\n",
    "\n",
    "A = np.random.random((size,size)).astype(np.float32)\n",
    "B = np.random.random((size,size)).astype(np.float32)\n",
    "C = np.zeros((A.shape[0], B.shape[1])).astype(np.float32)\n",
    "\n",
    "%time mat_mul_cy_fast(A,B,C)"
   ]
  },
  {
   "cell_type": "markdown",
   "metadata": {},
   "source": [
    "## Sometimes it's best to just use the predefined functions though...."
   ]
  },
  {
   "cell_type": "code",
   "execution_count": null,
   "metadata": {},
   "outputs": [],
   "source": [
    "#A = np.random.random((size,size)).astype(np.float32)\n",
    "#B = np.random.random((size,size)).astype(np.float32)\n",
    "#C = np.zeros((A.shape[0], A.shape[1])).astype(np.float32)\n",
    "#%time C = A * B"
   ]
  },
  {
   "cell_type": "markdown",
   "metadata": {},
   "source": [
    "Again look though the code below and try to remove as much of the yellow portions as possible to increase the speed of the code."
   ]
  },
  {
   "cell_type": "code",
   "execution_count": null,
   "metadata": {},
   "outputs": [],
   "source": [
    "%%cython -a\n",
    "\n",
    "cimport cython\n",
    "\n",
    "### import and use C functions\n",
    "#cdef extern from \"complex.h\":\n",
    "#    double cabs(double complex)\n",
    "\n",
    "def mandel(x, y, max_iters):\n",
    "    c = complex(x, y)\n",
    "    z = 0.0j\n",
    "    for i in range(max_iters):\n",
    "        z = z*z + c\n",
    "        if z.real*z.real + z.imag*z.imag >= 4:\n",
    "        # if cabs(z) >= 2:\n",
    "            return i\n",
    "    return max_iters\n",
    "\n",
    "def create_fractal(xmin, xmax, ymin, ymax, image, iters):\n",
    "    height, width = image.shape\n",
    "\n",
    "    pixel_size_x = (xmax - xmin)/width\n",
    "    pixel_size_y = (ymax - ymin)/height\n",
    "\n",
    "    for x in range(width):\n",
    "        real = xmin + x*pixel_size_x\n",
    "        for y in range(height):\n",
    "            imag = ymin + y*pixel_size_y\n",
    "            color = mandel(real, imag, iters)\n",
    "            image[y, x]  = color\n",
    "            "
   ]
  },
  {
   "cell_type": "code",
   "execution_count": null,
   "metadata": {},
   "outputs": [],
   "source": [
    "gimage = np.zeros((1080, 1920), dtype=np.uint32)\n",
    "xmin, xmax, ymin, ymax = [-2.0, 1.0, -1.0, 1.0]\n",
    "iters = 100\n",
    "\n",
    "%time create_fractal(xmin, xmax, ymin, ymax, gimage, iters)\n",
    "\n",
    "plt.figure(figsize=(15,15))\n",
    "plt.grid(False)\n",
    "plt.imshow(gimage, cmap='viridis')\n",
    "plt.show()"
   ]
  },
  {
   "cell_type": "code",
   "execution_count": null,
   "metadata": {},
   "outputs": [],
   "source": [
    "#%load fractal.py\n",
    "# NOTE: %%cython has to be the first line so remove the load line as well\n",
    "\n",
    "def create_fractal_cython(xmin, xmax, ymin, ymax, gimage, iters):\n",
    "    print(\"\\033[1m\\033[91m\\n\\nLoad the py file for the answer\\n\\n\\033[0m\")"
   ]
  },
  {
   "cell_type": "code",
   "execution_count": null,
   "metadata": {},
   "outputs": [],
   "source": [
    "gimage = np.zeros((1080, 1920), dtype=np.uint32)\n",
    "xmin, xmax, ymin, ymax = [-2.0, 1.0, -1.0, 1.0]\n",
    "iters = 50\n",
    "\n",
    "%time create_fractal_cython(xmin, xmax, ymin, ymax, gimage, iters)\n",
    "\n",
    "plt.figure(figsize=(16,9))\n",
    "plt.grid(False)\n",
    "plt.imshow(gimage, cmap='viridis')\n",
    "plt.show()"
   ]
  },
  {
   "cell_type": "code",
   "execution_count": null,
   "metadata": {},
   "outputs": [],
   "source": []
  }
 ],
 "metadata": {
  "kernelspec": {
   "display_name": "Python 3",
   "language": "python",
   "name": "python3"
  },
  "language_info": {
   "codemirror_mode": {
    "name": "ipython",
    "version": 3
   },
   "file_extension": ".py",
   "mimetype": "text/x-python",
   "name": "python",
   "nbconvert_exporter": "python",
   "pygments_lexer": "ipython3",
   "version": "3.7.3"
  }
 },
 "nbformat": 4,
 "nbformat_minor": 2
}
