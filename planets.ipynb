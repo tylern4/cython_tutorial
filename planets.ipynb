{
 "cells": [
  {
   "cell_type": "code",
   "execution_count": 1,
   "metadata": {},
   "outputs": [],
   "source": [
    "%matplotlib inline\n",
    "%load_ext Cython\n",
    "import matplotlib.pyplot as plt\n",
    "from mpl_toolkits.mplot3d import Axes3D\n",
    "import numpy as np"
   ]
  },
  {
   "cell_type": "code",
   "execution_count": 2,
   "metadata": {
    "scrolled": false
   },
   "outputs": [],
   "source": [
    "#%%cython -a\n",
    "\n",
    "from math import sqrt\n",
    "#from libc.math cimport sqrt\n",
    "import time\n",
    "#cimport cython\n",
    "\n",
    "import matplotlib.pyplot as plt\n",
    "from mpl_toolkits.mplot3d import Axes3D\n",
    "\n",
    "class vector:\n",
    "    def __init__(self, x, y, z):\n",
    "        self.x = x\n",
    "        self.y = y\n",
    "        self.z = z\n",
    "    def __mul__(self, other):\n",
    "        if type(other) == type(self):\n",
    "            return self.dot(other)\n",
    "        else:\n",
    "            return vector(self.x * other, self.y * other, self.z * other)\n",
    "    def __rmul__(self, other):\n",
    "        return self.__mul__(other)\n",
    "    def dot(self, other):\n",
    "        return vector(self.x * other.x, self.y * other.y, self.z * other.z)\n",
    "    def __sub__(self, other):\n",
    "        return vector(self.x - other.x,self.y - other.y,self.z - other.z)\n",
    "    def __neg__(self):\n",
    "        return vector(-self.x,-self.y,-self.z)\n",
    "    def __add__(self, other):\n",
    "        return vector(self.x + other.x,self.y + other.y,self.z + other.z)\n",
    "    def mag(self):\n",
    "        n = self.x*self.x\n",
    "        n += self.y*self.y\n",
    "        n += self.z*self.z\n",
    "        return sqrt(n)\n",
    "    def mag2(self):\n",
    "        n = self.x*self.x\n",
    "        n += self.y*self.y\n",
    "        n += self.z*self.z\n",
    "        return abs(n)\n",
    "    def norm(self):\n",
    "        return vector(self.x/self.mag(),self.y/self.mag(),self.z/self.mag())            \n",
    "    def __truediv__(self, other):\n",
    "        if type(other) == type(self):\n",
    "            pass\n",
    "        else:\n",
    "            return vector(self.x/other, self.y/other, self.z/other)\n",
    "    def __repr__(self):\n",
    "        return f'[{self.x},\\t{self.y},\\t{self.z}]'\n",
    "    def __print__(self):\n",
    "        return f'[{self.x},\\t{self.y},\\t{self.z}]'\n",
    "    \n",
    "class planet:\n",
    "    def __init__(self, name=\"\", pos=[0.0, 0.0, 0.0],velocity=[0.0, 0.0, 0.0], mass=0.0):\n",
    "        self.name = name\n",
    "        self.pos = vector(pos[0],pos[1],pos[2])\n",
    "        self.mass = mass\n",
    "        self.velocity = vector(velocity[0],velocity[1],velocity[2])\n",
    "        self.trail_x = [pos[0]]\n",
    "        self.trail_y = [pos[0]]\n",
    "        self.trail_z = [pos[0]]\n",
    "        self.force = vector(0.0,0.0,0.0)\n",
    "    def update(self):\n",
    "        self.trail_x.append(self.pos.x)\n",
    "        self.trail_y.append(self.pos.y)\n",
    "        self.trail_z.append(self.pos.z)\n",
    "    def rhat(self):\n",
    "        return -self.pos.norm()\n",
    "    def __repr__(self):\n",
    "        return f'\\npos => {self.pos.x},{self.pos.y},{self.pos.z}'\n",
    "    def __print__(self):\n",
    "        return f'\\npos => {self.pos.x},{self.pos.y},{self.pos.z}'\n",
    "    \n",
    "class simulation:\n",
    "    def __init__(self, sun, planets=[], num=50000, dt=1.0):\n",
    "        self.sun = sun\n",
    "        self.planets = planets\n",
    "        self.num = num\n",
    "        self.dt = dt\n",
    "        self.G = 6.67E-11\n",
    "    def add_planet(self, planet):\n",
    "        self.planets.append(planet)\n",
    "    def run(self):\n",
    "        for p in self.planets:\n",
    "            for x in range(0, self.num):\n",
    "                p.force = p.rhat() * (self.G * p.mass * self.sun.mass) / (p.pos.mag2())\n",
    "                p.velocity = (p.mass * p.velocity + p.force * self.dt) / p.mass\n",
    "                p.pos = p.pos + (p.velocity * self.dt)\n",
    "                p.update()\n",
    "    def plot(self):\n",
    "        plt.figure(figsize=(15,15))\n",
    "        axes = plt.gca()\n",
    "        axes.set_xlabel('x in m')\n",
    "        axes.set_ylabel('y in m')\n",
    "        axes.plot(0,0,marker='o',markersize=1,color='red',label='Sun')\n",
    "        for p in self.planets:\n",
    "            axes.plot(p.trail_x, p.trail_y,label=p.name)\n",
    "        plt.axis('equal')\n",
    "        axes.legend()\n",
    "        plt.show()\n",
    "    def plot_3d(self):\n",
    "        #fig = plt.figure(figsize=(15,15))\n",
    "        #ax = fig.gca(projection='3d')\n",
    "        #ax.plot(earth.trail_x, earth.trail_y, earth.trail_z, label='earth')\n",
    "        #ax.plot(jupiter.trail_x, jupiter.trail_y, jupiter.trail_z, label='jupiter')\n",
    "        #ax.scatter(sun.trail_x, sun.trail_y, sun.trail_z, label='Sun')\n",
    "        #plt.axis('equal')\n",
    "        #ax.legend()\n",
    "        #plt.show()\n",
    "        pass"
   ]
  },
  {
   "cell_type": "code",
   "execution_count": 5,
   "metadata": {
    "scrolled": false
   },
   "outputs": [],
   "source": [
    "sun = planet(name=\"sun\", mass=2.0E30)\n",
    "earth = planet(name=\"earth\", pos=[1.5E8,0, 0], velocity=[0, 5.0E5, 0], mass=6.0E24)\n",
    "jupiter = planet(name=\"jupiter\", pos=[8.0E8,0, 0], velocity=[0, 3.0E5, 0], mass=2.0E27)\n",
    "\n",
    "\n",
    "sim = simulation(sun, planets=[earth, jupiter], num=1000000)"
   ]
  },
  {
   "cell_type": "code",
   "execution_count": 6,
   "metadata": {},
   "outputs": [
    {
     "name": "stdout",
     "output_type": "stream",
     "text": [
      "CPU times: user 29.8 s, sys: 213 ms, total: 30.1 s\n",
      "Wall time: 30.6 s\n"
     ]
    }
   ],
   "source": [
    "%%time\n",
    "sim.run()\n",
    "#sim.plot()"
   ]
  },
  {
   "cell_type": "code",
   "execution_count": null,
   "metadata": {},
   "outputs": [],
   "source": []
  }
 ],
 "metadata": {
  "kernelspec": {
   "display_name": "Python 3",
   "language": "python",
   "name": "python3"
  },
  "language_info": {
   "codemirror_mode": {
    "name": "ipython",
    "version": 3
   },
   "file_extension": ".py",
   "mimetype": "text/x-python",
   "name": "python",
   "nbconvert_exporter": "python",
   "pygments_lexer": "ipython3",
   "version": "3.7.3"
  }
 },
 "nbformat": 4,
 "nbformat_minor": 2
}
